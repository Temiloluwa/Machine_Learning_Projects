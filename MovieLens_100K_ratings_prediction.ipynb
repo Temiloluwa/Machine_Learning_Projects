{
  "nbformat": 4,
  "nbformat_minor": 0,
  "metadata": {
    "kernelspec": {
      "name": "python3",
      "display_name": "Python 3"
    },
    "language_info": {
      "codemirror_mode": {
        "name": "ipython",
        "version": 3
      },
      "file_extension": ".py",
      "mimetype": "text/x-python",
      "name": "python",
      "nbconvert_exporter": "python",
      "pygments_lexer": "ipython3",
      "version": "3.7.4"
    },
    "colab": {
      "name": " MatrixF_Question2.ipynb",
      "provenance": [],
      "collapsed_sections": []
    },
    "accelerator": "GPU"
  },
  "cells": [
    {
      "cell_type": "markdown",
      "metadata": {
        "id": "O4c7m_BB0WDN",
        "colab_type": "text"
      },
      "source": [
        "# Matrix Factorization model on MovieLens 100K"
      ]
    },
    {
      "cell_type": "code",
      "metadata": {
        "id": "-U5uZx250WDY",
        "colab_type": "code",
        "colab": {}
      },
      "source": [
        "import numpy as np\n",
        "import pandas as pd\n",
        "import matplotlib.pyplot as plt\n",
        "from sklearn.decomposition import NMF\n",
        "from collections import Counter"
      ],
      "execution_count": 0,
      "outputs": []
    },
    {
      "cell_type": "markdown",
      "metadata": {
        "id": "V3PVNmyb0WDo",
        "colab_type": "text"
      },
      "source": [
        " ## Data Preprocessing\n",
        " - Read the dataset\n",
        " - Dropped the `Timestamp` Column\n",
        " - Restarted the numberings of ids from 0\n",
        " - Changed the dtype of ratings\n"
      ]
    },
    {
      "cell_type": "code",
      "metadata": {
        "id": "amJONZfm0sbR",
        "colab_type": "code",
        "colab": {}
      },
      "source": [
        "from google.colab import drive\n",
        "drive.mount('/gdrive')\n",
        "%cd /gdrive/My Drive/Colab Notebooks/\n"
      ],
      "execution_count": 0,
      "outputs": []
    },
    {
      "cell_type": "code",
      "metadata": {
        "id": "JUBI_r2e0WDr",
        "colab_type": "code",
        "outputId": "d5af885f-5157-472c-fffc-48ef2ac24ecc",
        "colab": {
          "base_uri": "https://localhost:8080/",
          "height": 230
        }
      },
      "source": [
        "# read dataset and drop timestamp\n",
        "path = \"ml-100k/u.data\"\n",
        "data = pd.read_csv(path, sep='\\s+', names=['UserId', 'MovieId', 'Rating', 'Timestamp'], index_col=None).drop(\n",
        "    ['Timestamp'], axis=1)\n",
        "\n",
        "# restarting numbering of ids from 0\n",
        "print(f\"Minimum userid: {np.min(data['UserId'])}, Minimum movieid: {np.min(data['UserId'])}\")\n",
        "data['UserId'] -= 1\n",
        "data['MovieId'] -= 1\n",
        "print(f\"Minimum userid: {np.min(data['UserId'])}, Minimum movieid: {np.min(data['UserId'])}\")\n",
        "\n",
        "# change dtype of ratings\n",
        "data = data.astype({'UserId': 'int', 'MovieId': 'int', 'Rating': 'float32'})\n",
        "data.head()"
      ],
      "execution_count": 3,
      "outputs": [
        {
          "output_type": "stream",
          "text": [
            "Minimum userid: 1, Minimum movieid: 1\n",
            "Minimum userid: 0, Minimum movieid: 0\n"
          ],
          "name": "stdout"
        },
        {
          "output_type": "execute_result",
          "data": {
            "text/html": [
              "<div>\n",
              "<style scoped>\n",
              "    .dataframe tbody tr th:only-of-type {\n",
              "        vertical-align: middle;\n",
              "    }\n",
              "\n",
              "    .dataframe tbody tr th {\n",
              "        vertical-align: top;\n",
              "    }\n",
              "\n",
              "    .dataframe thead th {\n",
              "        text-align: right;\n",
              "    }\n",
              "</style>\n",
              "<table border=\"1\" class=\"dataframe\">\n",
              "  <thead>\n",
              "    <tr style=\"text-align: right;\">\n",
              "      <th></th>\n",
              "      <th>UserId</th>\n",
              "      <th>MovieId</th>\n",
              "      <th>Rating</th>\n",
              "    </tr>\n",
              "  </thead>\n",
              "  <tbody>\n",
              "    <tr>\n",
              "      <th>0</th>\n",
              "      <td>195</td>\n",
              "      <td>241</td>\n",
              "      <td>3.0</td>\n",
              "    </tr>\n",
              "    <tr>\n",
              "      <th>1</th>\n",
              "      <td>185</td>\n",
              "      <td>301</td>\n",
              "      <td>3.0</td>\n",
              "    </tr>\n",
              "    <tr>\n",
              "      <th>2</th>\n",
              "      <td>21</td>\n",
              "      <td>376</td>\n",
              "      <td>1.0</td>\n",
              "    </tr>\n",
              "    <tr>\n",
              "      <th>3</th>\n",
              "      <td>243</td>\n",
              "      <td>50</td>\n",
              "      <td>2.0</td>\n",
              "    </tr>\n",
              "    <tr>\n",
              "      <th>4</th>\n",
              "      <td>165</td>\n",
              "      <td>345</td>\n",
              "      <td>1.0</td>\n",
              "    </tr>\n",
              "  </tbody>\n",
              "</table>\n",
              "</div>"
            ],
            "text/plain": [
              "   UserId  MovieId  Rating\n",
              "0     195      241     3.0\n",
              "1     185      301     3.0\n",
              "2      21      376     1.0\n",
              "3     243       50     2.0\n",
              "4     165      345     1.0"
            ]
          },
          "metadata": {
            "tags": []
          },
          "execution_count": 3
        }
      ]
    },
    {
      "cell_type": "markdown",
      "metadata": {
        "id": "rw2DdgER0WEG",
        "colab_type": "text"
      },
      "source": [
        "- Given a dataframe with userid,movieid and ratings features, `create_ratings_matrix` generates the ratings matrix.\n",
        "- The function `test_ratings_dims` confirms the sparsity of the ratings matrix"
      ]
    },
    {
      "cell_type": "code",
      "metadata": {
        "id": "hngoG8nN0WEK",
        "colab_type": "code",
        "colab": {}
      },
      "source": [
        "num_users = len(set(data['UserId']))\n",
        "num_movies = len(set(data['MovieId']))\n",
        "\n",
        "# create user-item matrix for ratings\n",
        "def create_ratings_matrix(data):\n",
        "  ratings_matrix = np.zeros((num_users, num_movies), dtype=float)\n",
        "  for i in range(len(data)):\n",
        "      userid, movieid, rating = tuple(data.iloc[i])\n",
        "      ratings_matrix[int(userid), int(movieid)] = rating\n",
        "  return ratings_matrix\n",
        "\n",
        "def test_ratings_dims(ratings_matrix, expected_length):\n",
        "    num_ratings = 0\n",
        "    for i in range(ratings_matrix.shape[0]):\n",
        "        num_ratings += len(np.nonzero(ratings_matrix[i])[0])\n",
        "\n",
        "    if num_ratings == expected_length:\n",
        "        #print(f\"Alles gut. Number of ratings:{num_ratings}\")\n",
        "        return\n",
        "    else:\n",
        "        print(\"Es gibt ein Problem\")\n",
        "    return "
      ],
      "execution_count": 0,
      "outputs": []
    },
    {
      "cell_type": "markdown",
      "metadata": {
        "id": "oW6eO6PDju_w",
        "colab_type": "text"
      },
      "source": [
        "## Modelling\n",
        "- `loss` calculates the loss value while `rmse` computes the rmse\n",
        "- A mask of the ratings matrix is computed with cell values where ratings exist set to 1. \n",
        "- This mask is utilzed by both functions"
      ]
    },
    {
      "cell_type": "code",
      "metadata": {
        "id": "BLEgn8u50WEW",
        "colab_type": "code",
        "colab": {}
      },
      "source": [
        "def loss(ratings, model_params, reg):\n",
        "    user_latent, movie_latent, user_bias, movie_bias, global_bias = model_params\n",
        "    #reshape the biases so they can be broadcasted approriately by numpy\n",
        "    user_bias = user_bias.reshape(-1, 1)\n",
        "    movie_bias = movie_bias.reshape(1, -1)\n",
        "    #mask to eliminate cell values without ratings\n",
        "    ratings_mask = (ratings != 0).astype(float)\n",
        "\n",
        "    prediction = user_latent.dot(movie_latent.T) + user_bias + movie_bias + global_bias\n",
        "    error = ratings - prediction\n",
        "    #eliminate cell values without ratings \n",
        "    error = error * ratings_mask\n",
        "    regularizations = np.sum(user_latent ** 2) + np.sum(movie_latent ** 2) + np.sum(user_bias ** 2) + np.sum(\n",
        "        movie_bias ** 2)\n",
        "\n",
        "    return np.sum(error ** 2) + reg * regularizations\n",
        "\n",
        "def rmse(ratings, model_params):\n",
        "    user_latent, movie_latent, user_bias, movie_bias, global_bias = model_params\n",
        "    #reshape the biases so they can be broadcasted approriately by numpy\n",
        "    user_bias = user_bias.reshape(-1, 1)\n",
        "    movie_bias = movie_bias.reshape(1, -1)\n",
        "\n",
        "    #mask to eliminate cell values without ratings\n",
        "    ratings_mask = (ratings != 0).astype(float)\n",
        "    num_ratings  = np.sum(ratings_mask)\n",
        "\n",
        "    prediction = user_latent.dot(movie_latent.T) + user_bias + movie_bias + global_bias\n",
        "    error = ratings - prediction\n",
        "    #eliminate cell values without ratings \n",
        "    error = error * ratings_mask\n",
        "\n",
        "    return np.sqrt(np.sum(error ** 2)/num_ratings) "
      ],
      "execution_count": 0,
      "outputs": []
    },
    {
      "cell_type": "markdown",
      "metadata": {
        "id": "qqDChRewkdT2",
        "colab_type": "text"
      },
      "source": [
        "- `matrix_factorizer` performs the matrix factorization\n",
        "- The `user_latent` and `movie_latent` matrices are randomly initialized.\n",
        "- The ratings dataset is not normalized and the `user_bias`, `movie_bias` and `global_bias` terms compensate for the bias present in the ratings\n",
        "- stochastic gradient descent is used to compute the update of the parameters for each rating present in the matrix"
      ]
    },
    {
      "cell_type": "code",
      "metadata": {
        "id": "Ez6xxdi00WEj",
        "colab_type": "code",
        "colab": {}
      },
      "source": [
        "def matrix_factorizer(train_ratings, test_ratings, lr=0.005, k=10, epochs=30, reg=0.001, freq=5, print_stats=True):\n",
        "    # initialization\n",
        "    user_latent = np.random.random((num_users, k))\n",
        "    movie_latent = np.random.random((num_movies, k))\n",
        "    user_bias = np.zeros(num_users)\n",
        "    movie_bias = np.zeros(num_movies)\n",
        "    global_bias = data['Rating'].mean()\n",
        "    #capture the indices of the ratings \n",
        "    user_indices, movie_indices = np.nonzero(train_ratings)\n",
        "\n",
        "    train_losses = []\n",
        "    test_losses = []\n",
        "    train_rmses = []\n",
        "    test_rmses = []\n",
        "\n",
        "    for epoch in range(epochs):\n",
        "        for i, j in zip(user_indices, movie_indices):\n",
        "            prediction = user_latent[i].dot(movie_latent[j].T) + user_bias[i] +\\\n",
        "                         movie_bias[j] + global_bias\n",
        "            rating = train_ratings[i][j]\n",
        "            error = rating - prediction \n",
        "        \n",
        "            # stochastic gradient descent update\n",
        "            user_bias[i] += lr * (error - reg * user_bias[i])\n",
        "            movie_bias[j] += lr * (error - reg * movie_bias[j])\n",
        "            user_latent[i] += lr * (error * movie_latent[j] - reg * user_latent[i])\n",
        "            movie_latent[j] += lr * (error * user_latent[i] - reg * movie_latent[j])\n",
        "\n",
        "        model_params = user_latent, movie_latent, user_bias, movie_bias, global_bias\n",
        "        \n",
        "        train_loss = loss(train_ratings, model_params, reg)\n",
        "        test_loss = loss(test_ratings, model_params, reg)\n",
        "        train_rmse = rmse(train_ratings, model_params)\n",
        "        test_rmse = rmse(test_ratings, model_params)\n",
        "        \n",
        "        train_losses.append(train_loss)\n",
        "        test_losses.append(test_loss)\n",
        "        train_rmses.append(train_rmse)\n",
        "        test_rmses.append(test_rmse)\n",
        "\n",
        "        if (epoch + 1) % freq == 0 and print_stats==True:\n",
        "            print(f\"Epoch:{epoch + 1:02d} Train loss:{train_loss:.3f} Test loss:{test_loss:.3f}\")\n",
        "            print(f\"Epoch:{epoch + 1:02d} Train rmse:{train_rmse:.3f} Test rmse:{test_rmse:.3f}\\n\")\n",
        "\n",
        "    return model_params, train_losses, test_losses, train_rmses, test_rmses"
      ],
      "execution_count": 0,
      "outputs": []
    },
    {
      "cell_type": "markdown",
      "metadata": {
        "id": "1xoBhM0Zl80F",
        "colab_type": "text"
      },
      "source": [
        "- Plot Loss and RMSE for the model"
      ]
    },
    {
      "cell_type": "code",
      "metadata": {
        "id": "CICq--At5nsg",
        "colab_type": "code",
        "colab": {}
      },
      "source": [
        "def plot_model_stats(model):\n",
        "  plt.figure(1)\n",
        "  plt.ylabel(\"Loss\")\n",
        "  plt.xlabel(\"Epochs\")\n",
        "  plt.title(\"Loss vs Epochs\")\n",
        "  plt.plot(model[1])\n",
        "  plt.plot(model[2])\n",
        "  plt.legend(['Train loss','Test loss'])\n",
        "\n",
        "  plt.figure(2)\n",
        "  plt.ylabel(\"RMSE\")\n",
        "  plt.xlabel(\"Epochs\")\n",
        "  plt.title(\"RMSE vs Epochs\")\n",
        "  plt.plot(model[3])\n",
        "  plt.plot(model[4])\n",
        "  plt.legend(['Train RMSE','Test RMSE'])\n",
        "  return"
      ],
      "execution_count": 0,
      "outputs": []
    },
    {
      "cell_type": "markdown",
      "metadata": {
        "id": "eEOabg14mbBY",
        "colab_type": "text"
      },
      "source": [
        "- `Kfold` generates indices that split a dataframe with ratings into `k` number of parts\n",
        "- `Grid_Search` is supplied with 3 matrices: one each for different values of latent dimensions, learning rate and regularization constant\n",
        "- `Grid_Search` performs Kfold crossvalidation and determines the optimal hyper-parameters "
      ]
    },
    {
      "cell_type": "code",
      "metadata": {
        "id": "_0kEZjbm9_Li",
        "colab_type": "code",
        "colab": {}
      },
      "source": [
        "def Kfold(k,data):\n",
        "    \n",
        "    #array of all indices in data\n",
        "    indices = np.arange(len(data))\n",
        "    \n",
        "    #shuffle the indices\n",
        "    np.random.random(1)\n",
        "    np.random.shuffle(indices)\n",
        "    \n",
        "    #length of each k fold\n",
        "    splits = int(len(data)//k)\n",
        "    \n",
        "    indices = list(indices)\n",
        "    \n",
        "    #array to store indices of each fold\n",
        "    Kfold_indices = []\n",
        "    for i in range(k-1):\n",
        "        Kfold_indices.append(indices[i*splits: (i+1)*splits])\n",
        "    Kfold_indices.append(indices[(k-1)*splits:])\n",
        "    \n",
        "    #testing of folds generated\n",
        "    sum_of_all_groups = 0\n",
        "    for i in range(k):\n",
        "        sum_of_all_groups += len(Kfold_indices[i]) \n",
        "    assert(len(data) == sum_of_all_groups)\n",
        "    \n",
        "    return Kfold_indices\n",
        "\n",
        "def Grid_Search(data,hyp_params,k=5):\n",
        "    data_indices = Kfold(k,data)\n",
        "    latent_dim, learning_rate, reg_const = hyp_params\n",
        "    #store fold data\n",
        "    hyp_param_data_store = {}\n",
        "    \n",
        "    for m in latent_dim:\n",
        "      for n in learning_rate:\n",
        "        for o in reg_const:\n",
        "  \n",
        "          running_val_rmse = 0\n",
        "          for i in range(k):\n",
        "              train_indices = []\n",
        "              val_index = data_indices[i]\n",
        "              for j in range(k):\n",
        "                  if j != i:\n",
        "                      train_indices += list(data_indices[j])\n",
        "            \n",
        "              data_train = data.iloc[train_indices,:]\n",
        "              data_val = data.iloc[val_index,:]\n",
        "\n",
        "              ratings_matrix_train = create_ratings_matrix(data_train)\n",
        "              ratings_matrix_val = create_ratings_matrix(data_val)\n",
        "\n",
        "              test_ratings_dims(ratings_matrix_train, len(data_train))\n",
        "              test_ratings_dims(ratings_matrix_val, len(data_val))\n",
        "\n",
        "              model = matrix_factorizer(ratings_matrix_train, ratings_matrix_val, \\\n",
        "                                        lr=n, k=m, epochs=30, reg=o, freq=30,print_stats=False)\n",
        "              \n",
        "              running_val_rmse += model[4][-1]\n",
        "              \n",
        "          average_val_rmse = running_val_rmse/k\n",
        "          print(f\"latent dim:{m}, lr:{n}, reg:{o},Average Validation RMSE:{average_val_rmse}\")\n",
        "          hyp_param_data_store[\"latent dimension:\"+str(m)+\\\n",
        "                               \",learning rate:\"+str(n)+\\\n",
        "                               \",Regularization:\"+str(o)] = average_val_rmse\n",
        "    \n",
        "    best_hyp_params = min([(v,k) for k,v in hyp_param_data_store.items()])\n",
        "    print(f\"Best Params: {best_hyp_params[1]} Best RMSE:{best_hyp_params[0]}\")\n",
        "    return hyp_param_data_store"
      ],
      "execution_count": 0,
      "outputs": []
    },
    {
      "cell_type": "markdown",
      "metadata": {
        "id": "ZP_ZWO41njnQ",
        "colab_type": "text"
      },
      "source": [
        "### Determine Optimal Hyper-parameters"
      ]
    },
    {
      "cell_type": "code",
      "metadata": {
        "id": "cC_ZIpFPIcB8",
        "colab_type": "code",
        "outputId": "bff9f3c5-a93d-4570-c0be-fad7ab288d07",
        "colab": {
          "base_uri": "https://localhost:8080/",
          "height": 105
        }
      },
      "source": [
        "latent_dim = [4,8]\n",
        "learning_rate = [1e-2,1e-3]\n",
        "reg_const = [1e-1]\n",
        "\n",
        "hyp_params = latent_dim, learning_rate, reg_const \n",
        "grid_results = Grid_Search(data,hyp_params)"
      ],
      "execution_count": 9,
      "outputs": [
        {
          "output_type": "stream",
          "text": [
            "latent dim:4, lr:0.01, reg:0.1,Average Validation RMSE:0.9229466633518089\n",
            "latent dim:4, lr:0.001, reg:0.1,Average Validation RMSE:0.9600122947189108\n",
            "latent dim:8, lr:0.01, reg:0.1,Average Validation RMSE:0.9206744903048371\n",
            "latent dim:8, lr:0.001, reg:0.1,Average Validation RMSE:0.9681948996987277\n",
            "Best Params: latent dimension:8,learning rate:0.01,Regularization:0.1 Best RMSE:0.9206744903048371\n"
          ],
          "name": "stdout"
        }
      ]
    },
    {
      "cell_type": "code",
      "metadata": {
        "id": "VqkY-PTCIemE",
        "colab_type": "code",
        "outputId": "f5950dc2-0a1a-4584-d74e-5710dfb967da",
        "colab": {
          "base_uri": "https://localhost:8080/",
          "height": 682
        }
      },
      "source": [
        "plt.figure(1, figsize=(10,6))\n",
        "plt.scatter(np.arange(len(grid_results)),list(grid_results.values()))\n",
        "plt.ylabel(\"Average Validation RMSE\")\n",
        "plt.xlabel(\"Hyperparameters\")\n",
        "plt.title(\"Average Validation RMSE vs Hyperparameters\")\n",
        "xticks = plt.xticks(np.arange(len(grid_results)),grid_results.keys(),rotation=90)"
      ],
      "execution_count": 10,
      "outputs": [
        {
          "output_type": "display_data",
          "data": {
            "image/png": "[encoded data removed]",
            "text/plain": [
              "<Figure size 720x432 with 1 Axes>"
            ]
          },
          "metadata": {
            "tags": []
          }
        }
      ]
    },
    {
      "cell_type": "markdown",
      "metadata": {
        "id": "Y9T9KYIVqyL6",
        "colab_type": "text"
      },
      "source": [
        "### Test Model\n",
        "- Testing model with best hyper parameters : latent dimensionality of 8, regularization constant of 0.1, and learning rate of 0.01"
      ]
    },
    {
      "cell_type": "code",
      "metadata": {
        "id": "7MkdGdqFQ6Er",
        "colab_type": "code",
        "outputId": "e5afe2ee-8c8f-4ca3-f23a-c5fe746eff5d",
        "colab": {
          "base_uri": "https://localhost:8080/",
          "height": 890
        }
      },
      "source": [
        "# train/test split\n",
        "train_set_size = 0.8\n",
        "data_train = data.sample(frac=train_set_size)\n",
        "data_test = data.drop(data_train.index)\n",
        "\n",
        "ratings_matrix_train = create_ratings_matrix(data_train)\n",
        "ratings_matrix_test = create_ratings_matrix(data_test)\n",
        "\n",
        "test_ratings_dims(ratings_matrix_train, len(data_train))\n",
        "test_ratings_dims(ratings_matrix_test, len(data_test))\n",
        "\n",
        "self_implem_model = matrix_factorizer(ratings_matrix_train,ratings_matrix_test, lr=0.01,\\\n",
        "                          k=8, epochs=30, reg=0.1, freq=5)\n",
        "\n",
        "plot_model_stats(self_implem_model)"
      ],
      "execution_count": 11,
      "outputs": [
        {
          "output_type": "stream",
          "text": [
            "Epoch:05 Train loss:67381.380 Test loss:18811.170\n",
            "Epoch:05 Train rmse:0.915 Test rmse:0.960\n",
            "\n",
            "Epoch:10 Train loss:63937.530 Test loss:18177.113\n",
            "Epoch:10 Train rmse:0.892 Test rmse:0.944\n",
            "\n",
            "Epoch:15 Train loss:61799.958 Test loss:17929.300\n",
            "Epoch:15 Train rmse:0.877 Test rmse:0.938\n",
            "\n",
            "Epoch:20 Train loss:59415.177 Test loss:17681.994\n",
            "Epoch:20 Train rmse:0.860 Test rmse:0.932\n",
            "\n",
            "Epoch:25 Train loss:57102.001 Test loss:17469.444\n",
            "Epoch:25 Train rmse:0.843 Test rmse:0.926\n",
            "\n",
            "Epoch:30 Train loss:55205.729 Test loss:17341.623\n",
            "Epoch:30 Train rmse:0.828 Test rmse:0.923\n",
            "\n"
          ],
          "name": "stdout"
        },
        {
          "output_type": "display_data",
          "data": {
            "image/png": "[encoded data removed]",
            "text/plain": [
              "<Figure size 432x288 with 1 Axes>"
            ]
          },
          "metadata": {
            "tags": []
          }
        },
        {
          "output_type": "display_data",
          "data": {
            "image/png": "[encoded data removed]",
            "text/plain": [
              "<Figure size 432x288 with 1 Axes>"
            ]
          },
          "metadata": {
            "tags": []
          }
        }
      ]
    },
    {
      "cell_type": "markdown",
      "metadata": {
        "id": "Y0KXY7CosREc",
        "colab_type": "text"
      },
      "source": [
        "**Comment** Obtained Test RMSE of 0.923"
      ]
    },
    {
      "cell_type": "code",
      "metadata": {
        "id": "LexuUr3qynz1",
        "colab_type": "code",
        "colab": {}
      },
      "source": [
        ""
      ],
      "execution_count": 0,
      "outputs": []
    }
  ]
}